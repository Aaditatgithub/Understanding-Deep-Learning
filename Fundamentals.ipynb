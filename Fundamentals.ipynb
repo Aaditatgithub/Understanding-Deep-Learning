{
  "nbformat": 4,
  "nbformat_minor": 0,
  "metadata": {
    "colab": {
      "provenance": [],
      "toc_visible": true,
      "gpuType": "T4"
    },
    "kernelspec": {
      "name": "python3",
      "display_name": "Python 3"
    },
    "language_info": {
      "name": "python"
    },
    "accelerator": "GPU"
  },
  "cells": [
    {
      "cell_type": "markdown",
      "source": [],
      "metadata": {
        "id": "7sQc3q_bRpZo"
      }
    },
    {
      "cell_type": "markdown",
      "source": [
        "# **GETTING STARTED**\n",
        "1. Resource Notebook: https://www.learnpytorch.io/00_pytorch_fundamentals/\n",
        "2. Pytorch Docs: https://pytorch.org/docs/stable/index.html\n",
        "3. Domain specific docs: https://pytorch.org/pytorch-domains\n",
        "\n",
        "\n"
      ],
      "metadata": {
        "id": "BJZLdJxmGcNr"
      }
    },
    {
      "cell_type": "code",
      "execution_count": null,
      "metadata": {
        "id": "rYwoA-kmGa1b",
        "colab": {
          "base_uri": "https://localhost:8080/"
        },
        "outputId": "cafa4448-6cd7-4450-8fb4-e2dd44ad75e7"
      },
      "outputs": [
        {
          "output_type": "stream",
          "name": "stdout",
          "text": [
            "2.3.0+cu121\n"
          ]
        }
      ],
      "source": [
        "import torch\n",
        "import numpy as np\n",
        "import pandas as pd\n",
        "import matplotlib.pyplot as plt\n",
        "print(torch.__version__)"
      ]
    },
    {
      "cell_type": "markdown",
      "source": [
        "# Introduction to Tensors\n",
        "https://pytorch.org/docs/stable/tensors.html"
      ],
      "metadata": {
        "id": "frXTFAm4SBWW"
      }
    },
    {
      "cell_type": "code",
      "source": [
        "#scalar\n",
        "scalar = torch.tensor(7)\n",
        "scalar"
      ],
      "metadata": {
        "colab": {
          "base_uri": "https://localhost:8080/"
        },
        "id": "oSVlzRnXPiLV",
        "outputId": "821360d7-5adc-4ee4-e70f-14f153319d90"
      },
      "execution_count": null,
      "outputs": [
        {
          "output_type": "execute_result",
          "data": {
            "text/plain": [
              "tensor(7)"
            ]
          },
          "metadata": {},
          "execution_count": 16
        }
      ]
    },
    {
      "cell_type": "code",
      "source": [
        "scalar.ndim\n",
        "\n",
        "#Get number out of tensor (make int)\n",
        "scalar.item()\n",
        "\n",
        "#Tensor rank 1\n",
        "vector = torch.tensor([7,7])\n",
        "vector.ndim\n",
        "\n",
        "#Tensor rank 2\n",
        "tensor_rank2 = torch.tensor([[7,8],[9,10]])\n",
        "tensor_rank2.ndim\n",
        "\n",
        "tensor_rank2.shape"
      ],
      "metadata": {
        "colab": {
          "base_uri": "https://localhost:8080/"
        },
        "id": "dO4VmQC8SzBT",
        "outputId": "edf35d81-b976-44cd-8b74-429fee2320cc"
      },
      "execution_count": null,
      "outputs": [
        {
          "output_type": "execute_result",
          "data": {
            "text/plain": [
              "torch.Size([2, 2])"
            ]
          },
          "metadata": {},
          "execution_count": 17
        }
      ]
    },
    {
      "cell_type": "markdown",
      "source": [
        "### Random Tensors\n",
        "Why random tensors? Cuz many NNs start with random tensors and then change them to better represent the data."
      ],
      "metadata": {
        "id": "--OhC8bbWWrP"
      }
    },
    {
      "cell_type": "code",
      "source": [
        "\n",
        "#Generate a random tensor\n",
        "random_tensor = torch.rand(3,4)\n",
        "random_tensor\n",
        "\n",
        "zeros = torch.zeros(size = (3,4))\n",
        "zeros*random_tensor\n",
        "\n",
        "ones = torch.ones(size = (4,5))\n",
        "\n",
        "#datatype of numbers in ones\n",
        "ones.dtype"
      ],
      "metadata": {
        "colab": {
          "base_uri": "https://localhost:8080/"
        },
        "id": "BEZlFxc2W3Le",
        "outputId": "ed54adf3-1ffa-4738-ef8e-92cc7a5b41f1"
      },
      "execution_count": null,
      "outputs": [
        {
          "output_type": "execute_result",
          "data": {
            "text/plain": [
              "torch.float32"
            ]
          },
          "metadata": {},
          "execution_count": 18
        }
      ]
    },
    {
      "cell_type": "code",
      "source": [
        "#Range of Tensors\n",
        "torch.arange(0,10)\n",
        "torch.arange(start=0,end=10,step=3)\n",
        "\n",
        "#Replicating shape\n",
        "torch.zeros_like(input=tensor_rank2)"
      ],
      "metadata": {
        "colab": {
          "base_uri": "https://localhost:8080/"
        },
        "id": "MMcUWdiHbvU3",
        "outputId": "7ff60d5e-dc98-4d89-e679-9a14d9df9855"
      },
      "execution_count": null,
      "outputs": [
        {
          "output_type": "execute_result",
          "data": {
            "text/plain": [
              "tensor([[0, 0],\n",
              "        [0, 0]])"
            ]
          },
          "metadata": {},
          "execution_count": 19
        }
      ]
    },
    {
      "cell_type": "markdown",
      "source": [
        "### **Tensor datatypes**\n",
        "Most common errors you'll get for Tensors\n",
        "1. Tensor datatype not right\n",
        "2. Tensor shape not right\n",
        "3. Tensors not on right device"
      ],
      "metadata": {
        "id": "m0Xj-nLFOIhI"
      }
    },
    {
      "cell_type": "code",
      "source": [
        "#float 32 tensor\n",
        "float_32_tensor = torch.tensor([3.0,6.0,9.0],\n",
        "                               dtype=None,          # Datatype of the tensor elements\n",
        "                               device=None,         # By default this is cpu : Use cuda for GPU\n",
        "                               requires_grad=False) # Whether or not to track gradients with this tensor operations\n",
        "float_32_tensor.shape"
      ],
      "metadata": {
        "colab": {
          "base_uri": "https://localhost:8080/"
        },
        "id": "lken4LDpOB1m",
        "outputId": "b19ccb19-5a9e-49bd-d975-9b74e94caee4"
      },
      "execution_count": null,
      "outputs": [
        {
          "output_type": "execute_result",
          "data": {
            "text/plain": [
              "torch.Size([3])"
            ]
          },
          "metadata": {},
          "execution_count": 22
        }
      ]
    },
    {
      "cell_type": "code",
      "source": [
        "float_32_tensor.dtype #float32\n",
        "\n",
        "float_16tensor = float_32_tensor.type(torch.float16)\n",
        "float_16tensor"
      ],
      "metadata": {
        "colab": {
          "base_uri": "https://localhost:8080/"
        },
        "id": "rGLBCeXZO5GG",
        "outputId": "faa66f0a-ed88-49a1-80ee-f5cc3696597b"
      },
      "execution_count": null,
      "outputs": [
        {
          "output_type": "execute_result",
          "data": {
            "text/plain": [
              "torch.float32"
            ]
          },
          "metadata": {},
          "execution_count": 23
        }
      ]
    },
    {
      "cell_type": "markdown",
      "source": [
        "### **Getting Information from tensors**\n",
        "\n"
      ],
      "metadata": {
        "id": "nIbmkV_pPoGu"
      }
    },
    {
      "cell_type": "code",
      "source": [
        "some_tensor = torch.rand(size = (3,4))\n",
        "some_tensor\n",
        "\n",
        "print(some_tensor)\n",
        "print(f\"Datatype of tensor: {some_tensor.dtype}\")\n",
        "print(f\"Shape of tensor: {some_tensor.shape}\")                      #  Alternative :: some_tensor.size()\n",
        "print(f\"Device tensor is stored on: {some_tensor.device}\")"
      ],
      "metadata": {
        "colab": {
          "base_uri": "https://localhost:8080/"
        },
        "id": "-bFRk4N4PyQP",
        "outputId": "3efdea20-4d7c-4a7e-f6f3-e2580654fe81"
      },
      "execution_count": null,
      "outputs": [
        {
          "output_type": "stream",
          "name": "stdout",
          "text": [
            "tensor([[0.1972, 0.1019, 0.1537, 0.4374],\n",
            "        [0.5061, 0.0753, 0.8291, 0.2802],\n",
            "        [0.2240, 0.1800, 0.1659, 0.0773]])\n",
            "Datatype of tensor: torch.float32\n",
            "Shape of tensor: torch.Size([3, 4])\n",
            "Device tensor is stored on: cpu\n"
          ]
        }
      ]
    },
    {
      "cell_type": "markdown",
      "source": [
        "### **Tensor Operations**\n",
        "1. Addition\n",
        "2. Subtraction\n",
        "3. Multiplication (element-wise)\n",
        "4. Division\n",
        "5. Matrix Multiplication"
      ],
      "metadata": {
        "id": "J3QjNbliRI0Z"
      }
    },
    {
      "cell_type": "code",
      "source": [
        "my_tensor = torch.rand(5)   #Tensor with 5 elements\n",
        "my_tensor.add_(5)\n",
        "my_tensor + 10\n",
        "print(my_tensor - 5)\n",
        "print(torch.mul(my_tensor, 10))\n",
        "#my_tensor / 10\n",
        "my_tensor\n",
        "\n",
        "tensor2 = torch.tensor([1,2,3,4,5])\n",
        "print(f\"Tensor1: {my_tensor}\")\n",
        "print(f\"Tensor2: {tensor2}\")\n",
        "print(f\"Tensor1 * Tensor2: {my_tensor * tensor2}\")\n",
        "\n",
        "print(tensor2.dtype)\n",
        "\n",
        "#change datatype of elements of my_tensor to int64\n",
        "my_tensor = my_tensor.type(torch.int64)\n",
        "print(my_tensor)\n",
        "#convert \"my_tensor to int\" and perform matmul\n",
        "torch.matmul(my_tensor, tensor2)"
      ],
      "metadata": {
        "colab": {
          "base_uri": "https://localhost:8080/"
        },
        "id": "ptbPPVs-Rc04",
        "outputId": "5b12e730-3724-4436-96e4-613b970b5c2f"
      },
      "execution_count": null,
      "outputs": [
        {
          "output_type": "stream",
          "name": "stdout",
          "text": [
            "tensor([0.1517, 0.0764, 0.3335, 0.9770, 0.9954])\n",
            "tensor([51.5169, 50.7635, 53.3349, 59.7699, 59.9537])\n",
            "Tensor1: tensor([5.1517, 5.0764, 5.3335, 5.9770, 5.9954])\n",
            "Tensor2: tensor([1, 2, 3, 4, 5])\n",
            "Tensor1 * Tensor2: tensor([ 5.1517, 10.1527, 16.0005, 23.9080, 29.9769])\n",
            "torch.int64\n",
            "tensor([5, 5, 5, 5, 5])\n"
          ]
        },
        {
          "output_type": "execute_result",
          "data": {
            "text/plain": [
              "tensor(75)"
            ]
          },
          "metadata": {},
          "execution_count": 46
        }
      ]
    },
    {
      "cell_type": "markdown",
      "source": [
        "### **Tensor aggregations** : Min, Max, Sum etc"
      ],
      "metadata": {
        "id": "f_RwOnD_a6IY"
      }
    },
    {
      "cell_type": "code",
      "source": [
        "tensor = torch.arange(start = 0, end = 100, step = 10)\n",
        "tensor\n",
        "\n",
        "torch.min(tensor), torch.max(tensor)\n",
        "torch.mean(tensor.type(torch.float32))        # does not work with long datatypes, use floating\n",
        "\n",
        "torch.sum(tensor), torch.prod(tensor)\n",
        "\n",
        "#positional min max\n",
        "tensor.argmin(), tensor.argmax()"
      ],
      "metadata": {
        "colab": {
          "base_uri": "https://localhost:8080/"
        },
        "id": "s-tsx2GQbHHm",
        "outputId": "97e2693c-1cdf-4f58-d699-09392f3ac5b0"
      },
      "execution_count": null,
      "outputs": [
        {
          "output_type": "execute_result",
          "data": {
            "text/plain": [
              "(tensor(0), tensor(9))"
            ]
          },
          "metadata": {},
          "execution_count": 57
        }
      ]
    },
    {
      "cell_type": "markdown",
      "source": [
        "### **Reshaping, Stacking, Squeezing and UnSqueezing (Tensors)**\n",
        "\n",
        "\n",
        "*   Reshaping - convert from one shape to other\n",
        "*   View - Return a view of input tensor of certain shape but keep the same memory as the input tensor\n",
        "* Stacking - Combine multiple tensors on top(Vstack), sidebyside(Hstack)\n",
        "* Squeezing - removes 1 dimension from tensor\n",
        "* Permute - Return a view of input tensor with dimensions swapped in certain way\n",
        "\n",
        "\n",
        "\n",
        "\n",
        "\n"
      ],
      "metadata": {
        "id": "BHXpNRrNe07N"
      }
    },
    {
      "cell_type": "code",
      "source": [
        "import torch\n",
        "x = torch.arange(1.0, 8.0)\n",
        "x, x.shape"
      ],
      "metadata": {
        "colab": {
          "base_uri": "https://localhost:8080/"
        },
        "id": "CezWKUZMgLPy",
        "outputId": "f82a301b-aedf-4537-df22-b31bd84cb6de"
      },
      "execution_count": null,
      "outputs": [
        {
          "output_type": "execute_result",
          "data": {
            "text/plain": [
              "(tensor([1., 2., 3., 4., 5., 6., 7.]), torch.Size([7]))"
            ]
          },
          "metadata": {},
          "execution_count": 76
        }
      ]
    },
    {
      "cell_type": "code",
      "source": [
        "x_reshaped = x.reshape(1,7)\n",
        "x_reshaped, x_reshaped.shape\n",
        "\n",
        "x_reshaped = x.reshape(7,1)\n",
        "x_reshaped, x_reshaped.shape\n",
        "\n",
        "#Keep the size same and redistribute the existing in the dimensions you want"
      ],
      "metadata": {
        "colab": {
          "base_uri": "https://localhost:8080/"
        },
        "id": "_YPVXWWLfCG4",
        "outputId": "3544ac29-9c56-4ac3-8e74-36386414a2b7"
      },
      "execution_count": null,
      "outputs": [
        {
          "output_type": "execute_result",
          "data": {
            "text/plain": [
              "(tensor([[1.],\n",
              "         [2.],\n",
              "         [3.],\n",
              "         [4.],\n",
              "         [5.],\n",
              "         [6.],\n",
              "         [7.]]),\n",
              " torch.Size([7, 1]))"
            ]
          },
          "metadata": {},
          "execution_count": 77
        }
      ]
    },
    {
      "cell_type": "code",
      "source": [
        "z = x.view(1,7)\n",
        "z, z.shape\n",
        "\n",
        "z[:, 0] = 5\n",
        "x, z"
      ],
      "metadata": {
        "colab": {
          "base_uri": "https://localhost:8080/"
        },
        "id": "3hqNodFye_E0",
        "outputId": "ac6aca30-1a1b-41bd-bd73-637fb0e43709"
      },
      "execution_count": null,
      "outputs": [
        {
          "output_type": "execute_result",
          "data": {
            "text/plain": [
              "(tensor([5., 2., 3., 4., 5., 6., 7.]), tensor([[5., 2., 3., 4., 5., 6., 7.]]))"
            ]
          },
          "metadata": {},
          "execution_count": 78
        }
      ]
    },
    {
      "cell_type": "code",
      "source": [
        "#stack on top of each other\n",
        "x_stacked = torch.stack([x,x,x,x], dim = 0)\n",
        "print(x_stacked)\n",
        "\n",
        "#stack side by side\n",
        "x_stacked = torch.stack([x,x,x,x], dim = 1)\n",
        "print(x_stacked)"
      ],
      "metadata": {
        "colab": {
          "base_uri": "https://localhost:8080/"
        },
        "id": "7RTEkor1h2Br",
        "outputId": "7266e682-117f-4952-e9d0-583787ecee8f"
      },
      "execution_count": null,
      "outputs": [
        {
          "output_type": "stream",
          "name": "stdout",
          "text": [
            "tensor([[5., 2., 3., 4., 5., 6., 7.],\n",
            "        [5., 2., 3., 4., 5., 6., 7.],\n",
            "        [5., 2., 3., 4., 5., 6., 7.],\n",
            "        [5., 2., 3., 4., 5., 6., 7.]])\n",
            "tensor([[5., 5., 5., 5.],\n",
            "        [2., 2., 2., 2.],\n",
            "        [3., 3., 3., 3.],\n",
            "        [4., 4., 4., 4.],\n",
            "        [5., 5., 5., 5.],\n",
            "        [6., 6., 6., 6.],\n",
            "        [7., 7., 7., 7.]])\n"
          ]
        }
      ]
    },
    {
      "cell_type": "code",
      "source": [
        "#Squeezing tensors\n",
        "x_reshaped = x.reshape(1,7)\n",
        "x_squeezed = x_reshaped.squeeze()\n",
        "\n",
        "print(x_reshaped, x_reshaped.shape)\n",
        "x_squeezed, x_squeezed.shape"
      ],
      "metadata": {
        "colab": {
          "base_uri": "https://localhost:8080/",
          "height": 228
        },
        "id": "jCzVYWJirSGH",
        "outputId": "0659ff18-de7e-4a45-8bc0-e7ed6a915b4c"
      },
      "execution_count": null,
      "outputs": [
        {
          "output_type": "stream",
          "name": "stdout",
          "text": [
            "tensor([[5., 2., 3., 4., 5., 6., 7.]]) torch.Size([1, 7])\n"
          ]
        },
        {
          "output_type": "error",
          "ename": "RuntimeError",
          "evalue": "permute(sparse_coo): number of dimensions in the tensor input does not match the length of the desired ordering of dimensions i.e. input.dim() = 1 is not equal to len(dims) = 2",
          "traceback": [
            "\u001b[0;31m---------------------------------------------------------------------------\u001b[0m",
            "\u001b[0;31mRuntimeError\u001b[0m                              Traceback (most recent call last)",
            "\u001b[0;32m<ipython-input-80-53c686569988>\u001b[0m in \u001b[0;36m<cell line: 8>\u001b[0;34m()\u001b[0m\n\u001b[1;32m      6\u001b[0m \u001b[0mx_squeezed\u001b[0m\u001b[0;34m,\u001b[0m \u001b[0mx_squeezed\u001b[0m\u001b[0;34m.\u001b[0m\u001b[0mshape\u001b[0m\u001b[0;34m\u001b[0m\u001b[0;34m\u001b[0m\u001b[0m\n\u001b[1;32m      7\u001b[0m \u001b[0;34m\u001b[0m\u001b[0m\n\u001b[0;32m----> 8\u001b[0;31m \u001b[0mx_permuted\u001b[0m \u001b[0;34m=\u001b[0m \u001b[0mx\u001b[0m\u001b[0;34m.\u001b[0m\u001b[0mpermute\u001b[0m\u001b[0;34m(\u001b[0m\u001b[0;36m1\u001b[0m\u001b[0;34m,\u001b[0m\u001b[0;36m0\u001b[0m\u001b[0;34m)\u001b[0m\u001b[0;34m\u001b[0m\u001b[0;34m\u001b[0m\u001b[0m\n\u001b[0m\u001b[1;32m      9\u001b[0m \u001b[0mx_permuted\u001b[0m\u001b[0;34m\u001b[0m\u001b[0;34m\u001b[0m\u001b[0m\n",
            "\u001b[0;31mRuntimeError\u001b[0m: permute(sparse_coo): number of dimensions in the tensor input does not match the length of the desired ordering of dimensions i.e. input.dim() = 1 is not equal to len(dims) = 2"
          ]
        }
      ]
    },
    {
      "cell_type": "code",
      "source": [
        "#indexing on a tensor\n",
        "tensor = torch.arange(1,10).reshape(1,3,3)\n",
        "tensor, tensor.shape\n",
        "\n",
        "print(tensor[0][0][2])\n",
        "print(tensor[0,0,2])\n",
        "print(tensor[0,:,:])"
      ],
      "metadata": {
        "colab": {
          "base_uri": "https://localhost:8080/"
        },
        "id": "wROj0ddH1REs",
        "outputId": "66bb4942-9dcc-4040-9a3a-09ed8a01851f"
      },
      "execution_count": null,
      "outputs": [
        {
          "output_type": "stream",
          "name": "stdout",
          "text": [
            "tensor(3)\n",
            "tensor(3)\n",
            "tensor([[1, 2, 3],\n",
            "        [4, 5, 6],\n",
            "        [7, 8, 9]])\n"
          ]
        }
      ]
    },
    {
      "cell_type": "markdown",
      "source": [
        "### **Interact with NumPy**\n",
        "1. Tensor to Numpy -> *torch.Tensor.numpy()*\n",
        "2. Numpy to Tensor -> *torch.from_numpy(ndarray)*"
      ],
      "metadata": {
        "id": "z2KicXq115OY"
      }
    },
    {
      "cell_type": "code",
      "source": [],
      "metadata": {
        "id": "DqjUix2214Cv"
      },
      "execution_count": null,
      "outputs": []
    },
    {
      "cell_type": "markdown",
      "source": [
        "### **Reproducibility**\n",
        "  Trying to take random out of random\n",
        "\n",
        "  Neural networks learn: random nums -> tensorOps -> update nums to get better representation of the data -> again -> again...\n",
        "  To reduce randomness in neural networks we use **random seed**"
      ],
      "metadata": {
        "id": "D_HfIXQzopVF"
      }
    },
    {
      "cell_type": "code",
      "source": [
        "import torch\n",
        "random_tensorA = torch.rand(3,4)\n",
        "random_tensorB = torch.rand(3,4)\n",
        "\n",
        "print(random_tensorA)\n",
        "print(random_tensorB)\n",
        "print(random_tensorA == random_tensorB)\n",
        "\n",
        "#Lets set a random seed to induce a randomness with specific entropy\n",
        "RANDOM_SEED = 42\n",
        "torch.manual_seed(RANDOM_SEED)\n",
        "\n",
        "random_tensorC = torch.rand(3,4)\n",
        "\n",
        "torch.manual_seed(RANDOM_SEED)\n",
        "random_tensorD = torch.rand(3,4)\n",
        "\n",
        "print(random_tensorC)\n",
        "print(random_tensorD)\n",
        "print(random_tensorC == random_tensorD)"
      ],
      "metadata": {
        "colab": {
          "base_uri": "https://localhost:8080/"
        },
        "id": "fNVmjsoko7ek",
        "outputId": "a5008fd5-6356-491a-8ae8-f420d0680351"
      },
      "execution_count": 4,
      "outputs": [
        {
          "output_type": "stream",
          "name": "stdout",
          "text": [
            "tensor([[0.1053, 0.2695, 0.3588, 0.1994],\n",
            "        [0.5472, 0.0062, 0.9516, 0.0753],\n",
            "        [0.8860, 0.5832, 0.3376, 0.8090]])\n",
            "tensor([[0.5779, 0.9040, 0.5547, 0.3423],\n",
            "        [0.6343, 0.3644, 0.7104, 0.9464],\n",
            "        [0.7890, 0.2814, 0.7886, 0.5895]])\n",
            "tensor([[False, False, False, False],\n",
            "        [False, False, False, False],\n",
            "        [False, False, False, False]])\n",
            "tensor([[0.8823, 0.9150, 0.3829, 0.9593],\n",
            "        [0.3904, 0.6009, 0.2566, 0.7936],\n",
            "        [0.9408, 0.1332, 0.9346, 0.5936]])\n",
            "tensor([[0.8823, 0.9150, 0.3829, 0.9593],\n",
            "        [0.3904, 0.6009, 0.2566, 0.7936],\n",
            "        [0.9408, 0.1332, 0.9346, 0.5936]])\n",
            "tensor([[True, True, True, True],\n",
            "        [True, True, True, True],\n",
            "        [True, True, True, True]])\n"
          ]
        }
      ]
    },
    {
      "cell_type": "code",
      "source": [
        "#Running pytorch objects on GPU\n",
        "# GPUs allow faster execution\n",
        "\n",
        "!nvidia-smi"
      ],
      "metadata": {
        "colab": {
          "base_uri": "https://localhost:8080/"
        },
        "id": "MqE8UYCzqHtU",
        "outputId": "599f49ec-28ea-4968-cd8f-e954bb406da7"
      },
      "execution_count": 1,
      "outputs": [
        {
          "output_type": "stream",
          "name": "stdout",
          "text": [
            "Sat Jul  6 15:30:02 2024       \n",
            "+---------------------------------------------------------------------------------------+\n",
            "| NVIDIA-SMI 535.104.05             Driver Version: 535.104.05   CUDA Version: 12.2     |\n",
            "|-----------------------------------------+----------------------+----------------------+\n",
            "| GPU  Name                 Persistence-M | Bus-Id        Disp.A | Volatile Uncorr. ECC |\n",
            "| Fan  Temp   Perf          Pwr:Usage/Cap |         Memory-Usage | GPU-Util  Compute M. |\n",
            "|                                         |                      |               MIG M. |\n",
            "|=========================================+======================+======================|\n",
            "|   0  Tesla T4                       Off | 00000000:00:04.0 Off |                    0 |\n",
            "| N/A   61C    P8              12W /  70W |      0MiB / 15360MiB |      0%      Default |\n",
            "|                                         |                      |                  N/A |\n",
            "+-----------------------------------------+----------------------+----------------------+\n",
            "                                                                                         \n",
            "+---------------------------------------------------------------------------------------+\n",
            "| Processes:                                                                            |\n",
            "|  GPU   GI   CI        PID   Type   Process name                            GPU Memory |\n",
            "|        ID   ID                                                             Usage      |\n",
            "|=======================================================================================|\n",
            "|  No running processes found                                                           |\n",
            "+---------------------------------------------------------------------------------------+\n"
          ]
        }
      ]
    },
    {
      "cell_type": "code",
      "source": [
        "import torch\n",
        "\n",
        "device = \"cuda\" if torch.cuda.is_available() else \"cpu\"\n",
        "device\n",
        "\n",
        "torch.cuda.device_count()"
      ],
      "metadata": {
        "colab": {
          "base_uri": "https://localhost:8080/"
        },
        "id": "viy0OMSEqxlT",
        "outputId": "36655ca3-a125-4c4f-c721-7f325ef8271b"
      },
      "execution_count": 5,
      "outputs": [
        {
          "output_type": "execute_result",
          "data": {
            "text/plain": [
              "1"
            ]
          },
          "metadata": {},
          "execution_count": 5
        }
      ]
    },
    {
      "cell_type": "code",
      "source": [
        "#Create a tensor(default on CPU)\n",
        "tensor = torch.tensor([1,2,3])\n",
        "\n",
        "#Tensor not on GPU\n",
        "print(tensor, tensor.device)\n",
        "\n",
        "#Move tensor to GPU (if available)\n",
        "tensor_on_gpu = tensor.to(device)\n",
        "tensor_on_gpu"
      ],
      "metadata": {
        "colab": {
          "base_uri": "https://localhost:8080/"
        },
        "id": "Ej-Bt2LExo9D",
        "outputId": "0cd642d6-91c7-4bae-a63a-e558e2d2a4c7"
      },
      "execution_count": 6,
      "outputs": [
        {
          "output_type": "stream",
          "name": "stdout",
          "text": [
            "tensor([1, 2, 3]) cpu\n"
          ]
        },
        {
          "output_type": "execute_result",
          "data": {
            "text/plain": [
              "tensor([1, 2, 3], device='cuda:0')"
            ]
          },
          "metadata": {},
          "execution_count": 6
        }
      ]
    },
    {
      "cell_type": "code",
      "source": [
        "# Number 3 error: error of device [numpy doesnt run on gpu]\n",
        "tensor_on_cpu = tensor_on_gpu.cpu().numpy()\n",
        "tensor_on_cpu"
      ],
      "metadata": {
        "id": "0n0b5eYtyBm7"
      },
      "execution_count": null,
      "outputs": []
    },
    {
      "cell_type": "markdown",
      "source": [
        "## **Something Extra N Some exercises**"
      ],
      "metadata": {
        "id": "zP2sqsIUyUAA"
      }
    },
    {
      "cell_type": "code",
      "source": [
        "tensor = torch.rand(7,7)\n",
        "tensor\n",
        "\n",
        "tensor2 = torch.rand(1,7)\n",
        "tensor2 = torch.transpose(tensor2, 0, 1)\n",
        "\n",
        "torch.matmul(tensor, tensor2) #matrix multiplication\n",
        "\n",
        "\n",
        "#NExt ASSIGNMENT\n",
        "RANDOM_SEED = 123\n",
        "torch.manual_seed(RANDOM_SEED)\n",
        "\n",
        "rand_tensor = torch.rand(2,1)\n",
        "rand_tensor"
      ],
      "metadata": {
        "colab": {
          "base_uri": "https://localhost:8080/"
        },
        "id": "TROY2BFBydMm",
        "outputId": "c52cc076-6784-4051-d3c1-b95bd6768322"
      },
      "execution_count": 15,
      "outputs": [
        {
          "output_type": "execute_result",
          "data": {
            "text/plain": [
              "tensor([[0.2961],\n",
              "        [0.5166]])"
            ]
          },
          "metadata": {},
          "execution_count": 15
        }
      ]
    }
  ]
}